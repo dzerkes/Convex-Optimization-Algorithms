{
 "cells": [
  {
   "cell_type": "markdown",
   "metadata": {},
   "source": [
    "### Convex Optimization ~  Ex 5"
   ]
  },
  {
   "cell_type": "markdown",
   "metadata": {},
   "source": [
    "#### Init and defining variables"
   ]
  },
  {
   "cell_type": "code",
   "execution_count": 1,
   "metadata": {},
   "outputs": [],
   "source": [
    "import numpy as np\n",
    "from numpy.linalg import inv\n",
    "import time\n",
    "#Calculation of gradient \n",
    "def gradf(x,y):\n",
    "    theta_x = -400*y*x + 400*x**3 + 2*x - 2\n",
    "    theta_y = 200*y - 200*x**2\n",
    "    return np.array([theta_x, theta_y])\n",
    "\n",
    "#Calculation of Hessian Matrix\n",
    "def hessian(x,y):\n",
    "    theta_yy = 200\n",
    "    theta_xy = -400*x # theta_xy equals theta_xy\n",
    "    theta_xx = 1200*x**2 - 400*y+2\n",
    "    return np.array([[theta_xx, theta_xy], [theta_xy, theta_yy]])\n",
    "\n",
    "#calculation of f\n",
    "def fx(x,y):\n",
    "    return 100*(y-x**2)**2 + (1-x)**2\n",
    "\n",
    "#init x0\n",
    "x0 = np.array([-1.2, 1])\n",
    "#hessian(x0[0],x0[1])# testing output - > array([[1330.,  480.], [ 480.,  200.]]) , 2x2"
   ]
  },
  {
   "cell_type": "markdown",
   "metadata": {},
   "source": [
    "#### Method Newton-Raphson\n",
    "\n",
    "This is how our function looks: \n",
    "\n",
    "<img src=\"rbrok.png\" />\n",
    "\n",
    "By looking to our problem we can observe that the global minimum is inside a long, narrow, parabolic shaped flat path. This makes it difficult to converge to our global minimum.\n",
    "\n",
    "Possible problems:\n",
    "\n",
    "    1) Saddle point because of the geometry of the problem-function. NR method searches locally.\n",
    "    2) Maybe H is not invertible because its not positive."
   ]
  },
  {
   "cell_type": "markdown",
   "metadata": {},
   "source": [
    "### NR method calculating pk by solving the linear system\n",
    "\n",
    "[Solve function](https://docs.scipy.org/doc/numpy-1.6.0/reference/generated/numpy.linalg.solve.html) works as follows:\n",
    "\n",
    "The solution to the system of linear equations is computed using an LU decomposition with partial pivoting and row interchanges.\n",
    "\n",
    "reference: https://docs.scipy.org/doc/numpy-1.6.0/reference/generated/numpy.linalg.solve.html"
   ]
  },
  {
   "cell_type": "code",
   "execution_count": 4,
   "metadata": {},
   "outputs": [
    {
     "name": "stdout",
     "output_type": "stream",
     "text": [
      "iterations:  6\n",
      "X that minimizes our function:  [1. 1.]\n",
      "f value on that X:  0.0\n",
      "Τime to run 0.00091552734375\n"
     ]
    }
   ],
   "source": [
    "start_time = time.time()\n",
    "p = -np.dot(np.linalg.inv(hessian(x0[0],x0[1])), gradf(x0[0],x0[1])) # direction \n",
    "xold = x0 \n",
    "xnew = xold + p\n",
    "tol = np.linalg.norm(xold-xnew, 2)\n",
    "    \n",
    "k = 0\n",
    "while tol > 10**(-10):\n",
    "    xold = xnew\n",
    "    hess = hessian(xold[0],xold[1])\n",
    "    grad = gradf(xold[0],xold[1])\n",
    "    #np.linalg.solve(hessian(xold[0],xold[1]), -gradf(xold[0],xold[1])) same thing as below, another syntax\n",
    "    p = np.linalg.solve([[hess[0][0],hess[0][1]],[hess[1][0],hess[1][1]]], [-grad[0],-grad[1]])\n",
    "    xnew = xold + p\n",
    "    tol = np.linalg.norm(xold - xnew, 2)\n",
    "    k += 1\n",
    "elapsed_time = time.time() - start_time\n",
    "print(\"iterations: \",k)\n",
    "print(\"X that minimizes our function: \",xnew)\n",
    "print(\"f value on that X: \",fx(xnew[0],xnew[1]))\n",
    "print(\"Τime to run\",elapsed_time)"
   ]
  },
  {
   "cell_type": "markdown",
   "metadata": {},
   "source": [
    "### NR method with a shift calculating pk by solving the linear system\n",
    "\n",
    "We have a square matrix to inverse 2x2. This means we want his eigenvalues to not be zero so that the matrix is invertible. That's why we add this __a__.\n",
    "\n",
    "We will use a big __a__ at the beginning and we will reduce it as iterations increase.\n",
    "\n",
    "We will divide with __a__ with the numbers of iterations k every time"
   ]
  },
  {
   "cell_type": "code",
   "execution_count": 6,
   "metadata": {},
   "outputs": [
    {
     "name": "stdout",
     "output_type": "stream",
     "text": [
      "iterations:  8\n",
      "X that minimizes our function:  [1. 1.]\n",
      "f value on that X:  0.0\n",
      "Τime to run 0.002198934555053711\n"
     ]
    }
   ],
   "source": [
    "x0 = np.array([-1.2, 1])\n",
    "a = 20 # init a for shifting\n",
    "start_time = time.time()\n",
    "p = -np.dot(np.linalg.inv(hessian(x0[0],x0[1])), gradf(x0[0],x0[1])) # direction \n",
    "xold = x0 \n",
    "xnew = xold + p\n",
    "tol = np.linalg.norm(xold-xnew, 2)\n",
    "a = 0.007\n",
    "k = 0\n",
    "while tol > 10**(-10):\n",
    "    xold = xnew\n",
    "    hess = hessian(xold[0],xold[1]) + a*np.eye(2)\n",
    "    grad = gradf(xold[0],xold[1])\n",
    "    p = np.linalg.solve([[hess[0][0],hess[0][1]],[hess[1][0],hess[1][1]]], [-grad[0],-grad[1]])\n",
    "    xnew = xold + p\n",
    "    tol = np.linalg.norm(xold - xnew, 2)\n",
    "    k += 1\n",
    "    a = a/k # reduce a as iterations increase\n",
    "elapsed_time = time.time() - start_time\n",
    "print(\"iterations: \",k)\n",
    "print(\"X that minimizes our function: \",xnew)\n",
    "print(\"f value on that X: \",fx(xnew[0],xnew[1]))\n",
    "print(\"Τime to run\",elapsed_time)"
   ]
  },
  {
   "cell_type": "markdown",
   "metadata": {},
   "source": [
    "### NR method using inverse of Hessian matrix\n",
    "\n",
    "Ιn our case the Hessian is just a 2x2 matrix. So Inverting is not computationally expensive. But, for bigger matrices the 1st method of solving the equation is preferred as it is computationally better."
   ]
  },
  {
   "cell_type": "code",
   "execution_count": 19,
   "metadata": {},
   "outputs": [
    {
     "name": "stdout",
     "output_type": "stream",
     "text": [
      "6\n",
      "[1. 1.]\n",
      "1.0 1.0\n",
      "Τime to run 0.0009098052978515625\n"
     ]
    }
   ],
   "source": [
    "start_time = time.time()\n",
    "p = -np.dot(np.linalg.inv(hessian(x0[0],x0[1])), gradf(x0[0],x0[1])) # direction \n",
    "xold = x0 \n",
    "xnew = xold + p\n",
    "tol = np.linalg.norm(xold-xnew, 2)\n",
    "    \n",
    "k = 0\n",
    "while tol > 10**(-10):\n",
    "    xold = xnew\n",
    "    #maybe Hessian is not invertible and we could add try-except. But in our case it is.\n",
    "    p = -np.dot(np.linalg.inv(hessian(xold[0],xold[1])), gradf(xold[0],xold[1]))\n",
    "    xnew = xold + p\n",
    "    tol = np.linalg.norm(xold - xnew, 2)\n",
    "    k += 1\n",
    "elapsed_time = time.time() - start_time\n",
    "print(k)\n",
    "print(xnew)\n",
    "print(xnew[0],xnew[1])\n",
    "print(\"Τime to run\",elapsed_time)"
   ]
  },
  {
   "cell_type": "markdown",
   "metadata": {},
   "source": [
    "### Newton-Raphson with a shift using Inverse of matrix"
   ]
  },
  {
   "cell_type": "code",
   "execution_count": 20,
   "metadata": {},
   "outputs": [
    {
     "name": "stdout",
     "output_type": "stream",
     "text": [
      "8\n",
      "[1. 1.]\n",
      "1.0 1.0\n",
      "Τime to run 0.002001523971557617\n"
     ]
    }
   ],
   "source": [
    "x0 = np.array([-1.2, 1])\n",
    "a = 20 # init a for shifting\n",
    "start_time = time.time()\n",
    "p = -np.dot(np.linalg.inv(hessian(x0[0],x0[1])), gradf(x0[0],x0[1])) # direction \n",
    "xold = x0 \n",
    "xnew = xold + p\n",
    "tol = np.linalg.norm(xold-xnew, 2)\n",
    "a = 0.007\n",
    "k = 0\n",
    "while tol > 10**(-10):\n",
    "    xold = xnew\n",
    "    #maybe Hessian is not invertible and we could add try-except. But in our case it is.\n",
    "    p = -np.dot(np.linalg.inv(hessian(xold[0],xold[1]) + a*np.eye(2)), gradf(xold[0],xold[1]))\n",
    "    xnew = xold + p\n",
    "    tol = np.linalg.norm(xold - xnew, 2)\n",
    "    k += 1\n",
    "    a = a/k # reduce a as iterations increase\n",
    "elapsed_time = time.time() - start_time\n",
    "print(k)\n",
    "print(xnew)\n",
    "print(xnew[0],xnew[1])\n",
    "print(\"Τime to run\",elapsed_time)"
   ]
  }
 ],
 "metadata": {
  "kernelspec": {
   "display_name": "Python 3",
   "language": "python",
   "name": "python3"
  },
  "language_info": {
   "codemirror_mode": {
    "name": "ipython",
    "version": 3
   },
   "file_extension": ".py",
   "mimetype": "text/x-python",
   "name": "python",
   "nbconvert_exporter": "python",
   "pygments_lexer": "ipython3",
   "version": "3.7.3"
  }
 },
 "nbformat": 4,
 "nbformat_minor": 2
}
