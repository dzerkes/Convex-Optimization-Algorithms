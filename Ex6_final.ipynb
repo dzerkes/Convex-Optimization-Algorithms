{
 "cells": [
  {
   "cell_type": "markdown",
   "metadata": {},
   "source": [
    "#### Convex Optimization- Ex 6 ~ PROJECTED GRADIENT METHOD"
   ]
  },
  {
   "cell_type": "markdown",
   "metadata": {},
   "source": [
    "__importing libraries to help us in minimizations__"
   ]
  },
  {
   "cell_type": "code",
   "execution_count": 1,
   "metadata": {},
   "outputs": [],
   "source": [
    "import numpy as np\n",
    "from numpy.linalg import norm\n",
    "from scipy.optimize import minimize_scalar \n",
    "from scipy import optimize"
   ]
  },
  {
   "cell_type": "code",
   "execution_count": 2,
   "metadata": {},
   "outputs": [],
   "source": [
    "#Calculation of gradient \n",
    "def gradf(x,y):\n",
    "    theta_x = -400*y*x + 400*x**3 + 2*x - 2\n",
    "    theta_y = 200*y - 200*x**2\n",
    "    return np.array([theta_x, theta_y])\n",
    "\n",
    "#calculation of f\n",
    "def fx(myx):\n",
    "    x=myx[0]\n",
    "    y=myx[1]\n",
    "    return 100*(y-x**2)**2 + (1-x)**2\n",
    "\n",
    "def zeta(xk,gradf_xk,gamma):\n",
    "    return xk - (1/gamma)*gradf(xk[0],xk[1])\n",
    "\n",
    "def get_y(zeta_k):\n",
    "    return zeta_k/(norm(zeta_k,2))\n",
    "\n",
    "def delta(grad_xk,xk,yk):\n",
    "    return np.dot(gradf(xk[0],xk[1]),yk-xk)\n",
    "\n",
    "# minimization of step 4 , with bounded a between [0,1]\n",
    "def to_min(a): \n",
    "    return fx(xk_global + a * (yk_global - xk_global)) - fx(xk_global)\n",
    "\n",
    "gamma_list = [10**-1,10**-2,10**-3]# 10**-k for K =1,2,3\n",
    "\n",
    "#tolerance init\n",
    "tol = 10**-10\n",
    "d=99999 # init delta with a big value for the first iteration\n",
    "\n",
    "bounds_for_a = (0,1)"
   ]
  },
  {
   "cell_type": "markdown",
   "metadata": {},
   "source": [
    "#### Implementing Projected Gradient Method"
   ]
  },
  {
   "cell_type": "code",
   "execution_count": 6,
   "metadata": {},
   "outputs": [
    {
     "name": "stdout",
     "output_type": "stream",
     "text": [
      "Gamma Value:  0.1\n",
      "Number of iterations 297\n",
      "Delta = -0.0000000000\n",
      "Final Solution [0.78641516 0.61769831]\n",
      "solution acceptable\n",
      "Value of function f on that point is:  0.04567480873434908\n",
      "------------------------------------------------------\n",
      "Gamma Value:  0.01\n",
      "Number of iterations 489\n",
      "Delta = -0.0000000001\n",
      "Final Solution [0.78641515 0.61769831]\n",
      "solution acceptable\n",
      "Value of function f on that point is:  0.04567480876767872\n",
      "------------------------------------------------------\n",
      "Gamma Value:  0.001\n",
      "Number of iterations 660\n",
      "Delta = -0.0000000001\n",
      "Final Solution [0.78641515 0.61769832]\n",
      "solution acceptable\n",
      "Value of function f on that point is:  0.045674808804133646\n",
      "------------------------------------------------------\n"
     ]
    }
   ],
   "source": [
    "for i in gamma_list:\n",
    "    k = 0\n",
    "    gamma = i\n",
    "    #doing these variables global so that\n",
    "    #the to_min() function can see them.\n",
    "    global xk_global\n",
    "    global yk_global\n",
    "    d=9999#something very big\n",
    "    while abs(d) > tol:\n",
    "\n",
    "        if k == 0: # first step\n",
    "\n",
    "            #initialization of xk for k = 0\n",
    "            xk = np.array([1/2, -1/2])\n",
    "            zeta_k = zeta(xk,gradf(xk[0],xk[1]),gamma)\n",
    "            yk    = get_y(zeta_k)\n",
    "            d   = delta(gradf(xk[0],xk[1]),xk,yk)\n",
    "\n",
    "            if abs(d) < tol:\n",
    "                break\n",
    "            else:\n",
    "                xk_global = xk\n",
    "                yk_global = yk\n",
    "                ak = minimize_scalar(to_min,bounds = bounds_for_a ,method='bounded').x\n",
    "\n",
    "            xk += ak*(yk-xk)\n",
    "            k+=1\n",
    "            #########################################################\n",
    "        if k>0: #k=1,2,... until convergence\n",
    "            zeta_k = zeta(xk,gradf(xk[0],xk[1]),gamma)\n",
    "            yk = get_y(zeta_k)\n",
    "            d = delta(gradf(xk[0],xk[1]),xk,yk)\n",
    "            if abs(d) < tol:\n",
    "                break\n",
    "            else:\n",
    "                xk_global = xk\n",
    "                yk_global = yk\n",
    "                ak = minimize_scalar(to_min,bounds = bounds_for_a ,method='bounded').x\n",
    "            xk +=  ak * (yk-xk)\n",
    "\n",
    "            k+=1\n",
    "    \n",
    "    print(\"Gamma Value: \",gamma)\n",
    "    print(\"Number of iterations\",k)\n",
    "    print(\"Delta = %.10f\"%(d))\n",
    "    print(\"Final Solution\",xk)\n",
    "    if (xk[0]**2 + xk[1]**2<=1):\n",
    "        print(\"solution acceptable\")\n",
    "    print(\"Value of function f on that point is: \",fx(xk))\n",
    "    print(\"------------------------------------------------------\")"
   ]
  },
  {
   "cell_type": "markdown",
   "metadata": {},
   "source": [
    "__We can observe that our algorithm converged really close to the real solution of the constrained optimization problem__"
   ]
  },
  {
   "cell_type": "markdown",
   "metadata": {},
   "source": [
    "real solution is : x=0.7864, y= 0.6177 with F(x,y) = 0.0456775167 and 0.7864**2 + 0.6177**2 = 0.99997825<=1 \n",
    "\n",
    "Reference:\n",
    "https://www.mathworks.com/help/optim/ug/example-nonlinear-constrained-minimization.html"
   ]
  },
  {
   "cell_type": "markdown",
   "metadata": {},
   "source": [
    "Difference of our solution between real "
   ]
  },
  {
   "cell_type": "code",
   "execution_count": 4,
   "metadata": {},
   "outputs": [
    {
     "data": {
      "text/plain": [
       "-2.707965650917965e-06"
      ]
     },
     "execution_count": 4,
     "metadata": {},
     "output_type": "execute_result"
    }
   ],
   "source": [
    "0.04567480873434908 -  0.0456775167"
   ]
  },
  {
   "cell_type": "code",
   "execution_count": 9,
   "metadata": {},
   "outputs": [
    {
     "data": {
      "text/plain": [
       "True"
      ]
     },
     "execution_count": 9,
     "metadata": {},
     "output_type": "execute_result"
    }
   ],
   "source": [
    "0.04567480873795899 > 0.04567480873434908"
   ]
  },
  {
   "cell_type": "code",
   "execution_count": null,
   "metadata": {},
   "outputs": [],
   "source": []
  }
 ],
 "metadata": {
  "kernelspec": {
   "display_name": "Python 3",
   "language": "python",
   "name": "python3"
  },
  "language_info": {
   "codemirror_mode": {
    "name": "ipython",
    "version": 3
   },
   "file_extension": ".py",
   "mimetype": "text/x-python",
   "name": "python",
   "nbconvert_exporter": "python",
   "pygments_lexer": "ipython3",
   "version": "3.7.3"
  }
 },
 "nbformat": 4,
 "nbformat_minor": 2
}
